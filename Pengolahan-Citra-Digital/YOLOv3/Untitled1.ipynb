{
 "cells": [
  {
   "cell_type": "code",
   "execution_count": null,
   "id": "0e44df78",
   "metadata": {},
   "outputs": [
    {
     "name": "stdout",
     "output_type": "stream",
     "text": [
      "[INFO] Waktu deteksi yolo 0.078505 detik\n",
      "()\n",
      "[]\n"
     ]
    }
   ],
   "source": [
    "import cv2\n",
    "import numpy as np\n",
    "import glob\n",
    "import random\n",
    "import time\n",
    "\n",
    "net = cv2.dnn.readNet(\"yolov3_training_last.weights\", \"yolov3-tiny-test.cfg\")\n",
    "\n",
    "classes = []\n",
    "with open(\"classes.txt\", \"r\") as f:\n",
    "    classes = f.read().splitlines()\n",
    "\n",
    "\n",
    "images_path = glob.glob(r\"images.jpeg\") #ganti dengan direktori gambar anda\n",
    "layer_names = net.getLayerNames()\n",
    "output_layers = [layer_names[i - 1] for i in net.getUnconnectedOutLayers()]\n",
    "colors = np.random.uniform(0, 255, size=(len(classes), 3))\n",
    "random.shuffle(images_path)\n",
    "for img_path in images_path:\n",
    "    img = cv2.imread(img_path)\n",
    "    img = cv2.resize(img, (480,360))\n",
    "    height, width, channels = img.shape\n",
    "\n",
    "    blob = cv2.dnn.blobFromImage(img, 0.00392, (416, 416), (0, 0, 0), True, crop=False)\n",
    "\n",
    "    net.setInput(blob)\n",
    "    start = time.time()\n",
    "    outs = net.forward(output_layers)\n",
    "    end = time.time()\n",
    "    print(\"[INFO] Waktu deteksi yolo {:.6f} detik\".format(end - start))\n",
    "\n",
    "    class_ids = []\n",
    "    confidences = []\n",
    "    boxes = []\n",
    "    for out in outs:\n",
    "        for detection in out:\n",
    "            scores = detection[5:]\n",
    "            class_id = np.argmax(scores)\n",
    "            confidence = scores[class_id]\n",
    "            if confidence > 0.3:\n",
    "                print(class_id)\n",
    "                \n",
    "                center_x = int(detection[0] * width)\n",
    "                center_y = int(detection[1] * height)\n",
    "                w = int(detection[2] * width)\n",
    "                h = int(detection[3] * height)\n",
    "                x = int(center_x - w / 2)\n",
    "                y = int(center_y - h / 2)\n",
    "                boxes.append([x, y, w, h])\n",
    "                confidences.append(float(confidence))\n",
    "                class_ids.append(class_id)\n",
    "    font = cv2.FONT_HERSHEY_PLAIN\n",
    "    indexes = cv2.dnn.NMSBoxes(boxes, confidences, 0.5, 0.4)\n",
    "    unique, counts = np.unique(class_ids, return_counts=True)\n",
    "    tambah=0\n",
    "    cv2.rectangle(img, (3, 3), (165, 80), (0,0,255), 1)\n",
    "    for i in range (len(counts)):\n",
    "                    cv2.putText(img,str(classes[i])+\" = \"+str(counts[i]), (5,15+tambah),font,1, (0,0,255), 1)\n",
    "                    tambah=tambah+15\n",
    "    print(indexes)\n",
    "    daftar=[]\n",
    "    for i in range(len(boxes)):\n",
    "        if i in indexes:\n",
    "            x, y, w, h = boxes[i]\n",
    "            label = str(classes[class_ids[i]])\n",
    "            daftar.append(label)\n",
    "            color = colors[class_ids[i]]\n",
    "            cv2.rectangle(img, (x, y), (x + w, y + h), color, 1)\n",
    "            text = \"{}: {:.2f}\".format(label, confidences[i])\n",
    "            cv2.putText(img, text, (x, y - 5), cv2.FONT_HERSHEY_SIMPLEX,\n",
    "                        0.5, color, 1)\n",
    "\n",
    "    print(daftar)\n",
    "    cv2.imshow(\"Deteksi Gambar Menggunakan YOLOv3\", img)\n",
    "    key = cv2.waitKey(0)\n",
    "    \n",
    "cv2.destroyAllWindows()\n"
   ]
  },
  {
   "cell_type": "code",
   "execution_count": null,
   "id": "871c366c",
   "metadata": {},
   "outputs": [],
   "source": []
  }
 ],
 "metadata": {
  "kernelspec": {
   "display_name": "Python 3 (ipykernel)",
   "language": "python",
   "name": "python3"
  },
  "language_info": {
   "codemirror_mode": {
    "name": "ipython",
    "version": 3
   },
   "file_extension": ".py",
   "mimetype": "text/x-python",
   "name": "python",
   "nbconvert_exporter": "python",
   "pygments_lexer": "ipython3",
   "version": "3.9.12"
  }
 },
 "nbformat": 4,
 "nbformat_minor": 5
}
